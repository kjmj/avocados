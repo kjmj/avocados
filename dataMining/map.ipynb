{
  "cells": [
    {
      "cell_type": "markdown",
      "metadata": {
        "pycharm": {
          "metadata": false,
          "name": "#%% md\n"
        }
      },
      "source": [
        "## Imports and Helper Functions"
      ]
    },
    {
      "cell_type": "code",
      "execution_count": 3,
      "metadata": {
        "pycharm": {
          "is_executing": false,
          "metadata": false,
          "name": "#%%\n"
        }
      },
      "outputs": [],
      "source": [
        "import pandas as pd\n",
        "import mplleaflet\n",
        "import mapclassify\n",
        "import geopandas as gpd\n",
        "from geopandas import GeoDataFrame\n",
        "import matplotlib.pyplot as plt\n",
        "import numpy as np\n",
        "from shapely.geometry import Polygon\n",
        "from shapely.ops import cascaded_union\n",
        "\n",
        "# Replace any number of spaces with just a single space\n",
        "def refineSpaces(x):\n",
        "    return x.replace(\u0027\\s+\u0027, \u0027 \u0027, regex\u003dTrue)\n",
        "\n",
        "# Remove leading and trailing white space\n",
        "def removeExcessWhitespace(x):\n",
        "    return x.str.strip()\n",
        "\n",
        "# Convert the string to uppercase\n",
        "def toUpper(x):\n",
        "    return x.str.upper()\n"
      ]
    },
    {
      "cell_type": "markdown",
      "metadata": {
        "collapsed": true,
        "pycharm": {
          "name": "#%% md\n"
        }
      },
      "source": [
        "## Read in Data"
      ]
    },
    {
      "cell_type": "code",
      "execution_count": 4,
      "metadata": {
        "pycharm": {
          "is_executing": false,
          "metadata": false,
          "name": "#%%\n"
        }
      },
      "outputs": [
        {
          "name": "stdout",
          "text": [
            "Done reading data.\n"
          ],
          "output_type": "stream"
        }
      ],
      "source": "avocadoData \u003d pd.read_csv(\u0027avocado-with-regions.csv\u0027)\navocadoData \u003d pd.DataFrame(avocadoData, columns\u003d[\u0027region\u0027, \u0027AveragePrice\u0027])\n\n# Map the given regions to their corresponding larger region\navocadoData[\u0027region\u0027] \u003d np.where(avocadoData[\u0027region\u0027] \u003d\u003d \u0027GreatLakes\u0027, \u0027MIDWEST\u0027, avocadoData[\u0027region\u0027])\navocadoData[\u0027region\u0027] \u003d np.where(avocadoData[\u0027region\u0027] \u003d\u003d \u0027MidSouth\u0027, \u0027SOUTH\u0027, avocadoData[\u0027region\u0027])\navocadoData[\u0027region\u0027] \u003d np.where(avocadoData[\u0027region\u0027] \u003d\u003d \u0027SouthCentral\u0027, \u0027SOUTH\u0027, avocadoData[\u0027region\u0027])\navocadoData[\u0027region\u0027] \u003d np.where(avocadoData[\u0027region\u0027] \u003d\u003d \u0027SouthEast\u0027, \u0027SOUTH\u0027, avocadoData[\u0027region\u0027])\n\n# Get average price for that region and make it uppercase\navgPriceByRegion \u003d avocadoData.groupby([\u0027region\u0027]).mean().reset_index()\navgPriceByRegion[\u0027region\u0027] \u003d avgPriceByRegion[\u0027region\u0027].str.upper()\n\n# read in all the geojson files\nmidwest \u003d gpd.read_file(\u0027geojson/us-regions/Midwest.geojson\u0027)\nnortheast \u003d gpd.read_file(\u0027geojson/us-regions/Northeast.geojson\u0027)\nsouth \u003d gpd.read_file(\u0027geojson/us-regions/South.geojson\u0027)\nwest \u003d gpd.read_file(\u0027geojson/us-regions/West.geojson\u0027)\n\n# concetenate them together and change the id(region) to uppercase\nregions \u003d pd.concat([midwest, northeast, south, west])\nregions[\u0027id\u0027] \u003d regions[\u0027id\u0027].str.upper()\n\n\n\nprint(\"Done reading data.\")\n"
    },
    {
      "cell_type": "markdown",
      "metadata": {
        "pycharm": {
          "metadata": false,
          "name": "#%% md\n"
        }
      },
      "source": [
        "# Merge in regions"
      ]
    },
    {
      "cell_type": "code",
      "execution_count": 5,
      "metadata": {
        "pycharm": {
          "is_executing": false,
          "metadata": false,
          "name": "#%%\n"
        }
      },
      "outputs": [
        {
          "name": "stdout",
          "text": [
            "Done merging data frames.\n"
          ],
          "output_type": "stream"
        }
      ],
      "source": "\nmerged \u003d pd.merge(avgPriceByRegion, regions,  how\u003d\u0027inner\u0027, left_on\u003d\u0027region\u0027, right_on\u003d\u0027id\u0027)\n\nprint(\"Done merging data frames.\")\n"
    },
    {
      "cell_type": "markdown",
      "metadata": {
        "pycharm": {
          "metadata": false,
          "name": "#%% md\n"
        }
      },
      "source": [
        "## Plot violations and shape data"
      ]
    },
    {
      "cell_type": "code",
      "execution_count": 6,
      "metadata": {
        "pycharm": {
          "is_executing": false,
          "metadata": false,
          "name": "#%%\n"
        }
      },
      "outputs": [
        {
          "data": {
            "text/plain": "\u003cFigure size 432x288 with 1 Axes\u003e",
            "image/png": "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\u003d\u003d\n"
          },
          "metadata": {
            "needs_background": "light"
          },
          "output_type": "display_data"
        }
      ],
      "source": "# legend cannot be shown to mplleaflet. comment out the first one if youre plotting to mflleaflet\n#ax \u003d GeoDataFrame(merged).plot(column\u003d\u0027Mean income (dollars); Estimate; All households\u0027,  cmap\u003d\u0027Blues\u0027, scheme\u003d\u0027QUANTILES\u0027, k\u003d6, figsize\u003d(36, 36), legend\u003dTrue)\nax \u003d GeoDataFrame(merged).plot(column\u003d\u0027AveragePrice\u0027, edgecolor\u003d\u0027black\u0027, cmap\u003d\u0027Greens\u0027)\n\n#ax.figure.savefig(\u0027generated/mean-income-2015.png\u0027, dpi\u003d300)\nplt.show()\nmplleaflet.save_html(fig\u003dax.figure, fileobj\u003d\u0027generated/map-by-region.html\u0027)\n"
    },
    {
      "cell_type": "code",
      "execution_count": null,
      "metadata": {
        "pycharm": {
          "metadata": false,
          "name": "#%%\n"
        }
      },
      "outputs": [],
      "source": [
        "\n"
      ]
    }
  ],
  "metadata": {
    "kernelspec": {
      "display_name": "Python 3",
      "language": "python",
      "name": "python3"
    },
    "language_info": {
      "codemirror_mode": {
        "name": "ipython",
        "version": 3
      },
      "file_extension": ".py",
      "mimetype": "text/x-python",
      "name": "python",
      "nbconvert_exporter": "python",
      "pygments_lexer": "ipython3",
      "version": "3.7.3"
    },
    "stem_cell": {
      "cell_type": "raw",
      "metadata": {
        "pycharm": {
          "metadata": false
        }
      },
      "source": ""
    }
  },
  "nbformat": 4,
  "nbformat_minor": 1
}