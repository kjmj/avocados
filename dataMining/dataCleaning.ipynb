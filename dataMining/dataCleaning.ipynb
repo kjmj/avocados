{
  "cells": [
    {
      "cell_type": "markdown",
      "source": "## Imports",
      "metadata": {
        "pycharm": {
          "metadata": false,
          "name": "#%% md\n"
        }
      }
    },
    {
      "cell_type": "code",
      "execution_count": 2,
      "outputs": [],
      "source": "import pandas as pd\n",
      "metadata": {
        "pycharm": {
          "metadata": false,
          "name": "#%%\n",
          "is_executing": false
        }
      }
    },
    {
      "cell_type": "markdown",
      "source": "## Cleaning - Filter out any row with a region",
      "metadata": {
        "pycharm": {
          "metadata": false,
          "name": "#%% md\n"
        }
      }
    },
    {
      "cell_type": "code",
      "execution_count": 14,
      "outputs": [],
      "source": "invalidRegions \u003d [\u0027GreatLakes\u0027, \u0027Midsouth\u0027, \u0027Northeast\u0027, \u0027NorthernNewEngland\u0027, \u0027Plains\u0027, \u0027SouthCentral\u0027,\n                  \u0027Southeast\u0027, \u0027TotalUS\u0027, \u0027West\u0027]\n\ndata \u003d pd.read_csv(\u0027avocado.csv\u0027)\ndata \u003d data[~data.region.str.contains(\u0027|\u0027.join(invalidRegions))]\ndata.to_csv(\"avocado-without-regions.csv\", index\u003dFalse)\n",
      "metadata": {
        "pycharm": {
          "metadata": false,
          "name": "#%%\n",
          "is_executing": false
        }
      }
    },
    {
      "cell_type": "code",
      "execution_count": 15,
      "outputs": [],
      "source": "## Cleaning - Grab only rows with regions",
      "metadata": {
        "pycharm": {
          "metadata": false,
          "name": "#%%\n",
          "is_executing": false
        }
      }
    },
    {
      "cell_type": "code",
      "execution_count": 16,
      "outputs": [],
      "source": "regionsToInclude \u003d [\u0027GreatLakes\u0027, \u0027Midsouth\u0027, \u0027Northeast\u0027, \u0027NorthernNewEngland\u0027, \u0027Plains\u0027, \u0027SouthCentral\u0027,\n                  \u0027Southeast\u0027, \u0027West\u0027]\n\ndata \u003d pd.read_csv(\u0027avocado.csv\u0027)\ndata \u003d data[data.region.str.contains(\u0027|\u0027.join(invalidRegions))]\ndata.to_csv(\"avocado-with-regions.csv\", index\u003dFalse)",
      "metadata": {
        "pycharm": {
          "metadata": false,
          "name": "#%%\n",
          "is_executing": false
        }
      }
    },
    {
      "cell_type": "code",
      "execution_count": null,
      "outputs": [],
      "source": "\n",
      "metadata": {
        "pycharm": {
          "metadata": false,
          "name": "#%%\n"
        }
      }
    }
  ],
  "metadata": {
    "language_info": {
      "codemirror_mode": {
        "name": "ipython",
        "version": 2
      },
      "file_extension": ".py",
      "mimetype": "text/x-python",
      "name": "python",
      "nbconvert_exporter": "python",
      "pygments_lexer": "ipython2",
      "version": "2.7.6"
    },
    "kernelspec": {
      "name": "python3",
      "language": "python",
      "display_name": "Python 3"
    },
    "stem_cell": {
      "cell_type": "raw",
      "source": "",
      "metadata": {
        "pycharm": {
          "metadata": false
        }
      }
    }
  },
  "nbformat": 4,
  "nbformat_minor": 0
}